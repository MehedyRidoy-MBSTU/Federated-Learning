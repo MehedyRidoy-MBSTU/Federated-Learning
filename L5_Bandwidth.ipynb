{
 "cells": [
  {
   "cell_type": "markdown",
   "id": "c0864134",
   "metadata": {},
   "source": [
    "# Lesson 5: Bandwidth"
   ]
  },
  {
   "cell_type": "markdown",
   "id": "b5f578c4",
   "metadata": {},
   "source": [
    "Welcome to Lesson 5!\n",
    "\n",
    "To access the `requirements.txt` and `utils5.py` file for this course, go to `File` and click `Open`."
   ]
  },
  {
   "cell_type": "markdown",
   "id": "25b96f7b",
   "metadata": {},
   "source": [
    "#### 1. Load imports"
   ]
  },
  {
   "cell_type": "code",
   "execution_count": 1,
   "id": "4bc861ea-21bb-45a8-8196-a5b0d0ace374",
   "metadata": {},
   "outputs": [],
   "source": [
    "from flwr.client.mod import parameters_size_mod\n",
    "\n",
    "from utils5 import *"
   ]
  },
  {
   "cell_type": "markdown",
   "id": "9a45205f",
   "metadata": {},
   "source": [
    "#### 2.  Define the model"
   ]
  },
  {
   "cell_type": "markdown",
   "id": "801d9e47",
   "metadata": {},
   "source": [
    "*  Initialize the model."
   ]
  },
  {
   "cell_type": "code",
   "execution_count": 2,
   "id": "bb82dbc0-cb85-408c-ac0f-265af010bfea",
   "metadata": {},
   "outputs": [
    {
     "data": {
      "application/vnd.jupyter.widget-view+json": {
       "model_id": "7ad92da6ea4d46b198101ffbb461a376",
       "version_major": 2,
       "version_minor": 0
      },
      "text/plain": [
       "config.json:   0%|          | 0.00/595 [00:00<?, ?B/s]"
      ]
     },
     "metadata": {},
     "output_type": "display_data"
    },
    {
     "name": "stderr",
     "output_type": "stream",
     "text": [
      "c:\\Users\\Ridoy\\anaconda3\\envs\\flower_env\\lib\\site-packages\\huggingface_hub\\file_download.py:144: UserWarning: `huggingface_hub` cache-system uses symlinks by default to efficiently store duplicated files but your machine does not support them in C:\\Users\\Ridoy\\Federated Learning\\pythia-14m\\cache\\models--EleutherAI--pythia-14m. Caching files will still work but in a degraded version that might require more space on your disk. This warning can be disabled by setting the `HF_HUB_DISABLE_SYMLINKS_WARNING` environment variable. For more details, see https://huggingface.co/docs/huggingface_hub/how-to-cache#limitations.\n",
      "To support symlinks on Windows, you either need to activate Developer Mode or to run Python as an administrator. In order to activate developer mode, see this article: https://docs.microsoft.com/en-us/windows/apps/get-started/enable-your-device-for-development\n",
      "  warnings.warn(message)\n",
      "Xet Storage is enabled for this repo, but the 'hf_xet' package is not installed. Falling back to regular HTTP download. For better performance, install the package with: `pip install huggingface_hub[hf_xet]` or `pip install hf_xet`\n"
     ]
    },
    {
     "data": {
      "application/vnd.jupyter.widget-view+json": {
       "model_id": "c4de6f835b9440a0b6f191564666f6e6",
       "version_major": 2,
       "version_minor": 0
      },
      "text/plain": [
       "model.safetensors:   0%|          | 0.00/53.3M [00:00<?, ?B/s]"
      ]
     },
     "metadata": {},
     "output_type": "display_data"
    },
    {
     "data": {
      "application/vnd.jupyter.widget-view+json": {
       "model_id": "77cc824086d94db7aff5927f924cc093",
       "version_major": 2,
       "version_minor": 0
      },
      "text/plain": [
       "generation_config.json:   0%|          | 0.00/111 [00:00<?, ?B/s]"
      ]
     },
     "metadata": {},
     "output_type": "display_data"
    }
   ],
   "source": [
    "model = AutoModelForCausalLM.from_pretrained(\n",
    "    \"EleutherAI/pythia-14m\",\n",
    "    cache_dir=\"./pythia-14m/cache\",\n",
    ")"
   ]
  },
  {
   "cell_type": "markdown",
   "id": "37b51a54",
   "metadata": {},
   "source": [
    "Find more information about [EleutherAI/pythia-14m](https://huggingface.co/EleutherAI/pythia-14m)"
   ]
  },
  {
   "cell_type": "markdown",
   "id": "6159b23d",
   "metadata": {},
   "source": [
    "* Get some Model values."
   ]
  },
  {
   "cell_type": "code",
   "execution_count": 3,
   "id": "973616a4-8b73-41b8-bc9d-4abbbc74502d",
   "metadata": {},
   "outputs": [
    {
     "name": "stderr",
     "output_type": "stream",
     "text": [
      "\u001b[92mINFO \u001b[0m: Model size is: 53 MB\n"
     ]
    }
   ],
   "source": [
    "vals = model.state_dict().values()\n",
    "total_size_bytes = sum(p.element_size() * p.numel() for p in vals)\n",
    "total_size_mb = int(total_size_bytes / (1024**2))\n",
    "\n",
    "log(INFO, \"Model size is: {} MB\".format(total_size_mb))"
   ]
  },
  {
   "cell_type": "markdown",
   "id": "6ccf308f",
   "metadata": {},
   "source": [
    "* Define the FlowerClient."
   ]
  },
  {
   "cell_type": "code",
   "execution_count": 4,
   "id": "ea907386-ef03-46a5-bbe3-05414dee7b4b",
   "metadata": {},
   "outputs": [],
   "source": [
    "class FlowerClient(NumPyClient):\n",
    "    def __init__(self, net):\n",
    "        self.net = net\n",
    "\n",
    "    def fit(self, parameters, config):\n",
    "        set_weights(self.net, parameters)\n",
    "        # No actual training here\n",
    "        return get_weights(self.net), 1, {}\n",
    "\n",
    "    def evaluate(self, parameters, config):\n",
    "        set_weights(self.net, parameters)\n",
    "        # No actual evaluation here\n",
    "        return float(0), int(1), {\"accuracy\": 0}\n",
    "\n",
    "\n",
    "def client_fn(context: Context) -> FlowerClient:\n",
    "    return FlowerClient(model).to_client()\n",
    "\n",
    "\n",
    "client = ClientApp(\n",
    "    client_fn,\n",
    "    mods=[parameters_size_mod],\n",
    ")"
   ]
  },
  {
   "cell_type": "markdown",
   "id": "4ffa0f64",
   "metadata": {},
   "source": [
    "* Define the custom strategy: BandwidthTrackingFedAvg."
   ]
  },
  {
   "cell_type": "code",
   "execution_count": 5,
   "id": "95213409-e47d-4415-b69f-9bfb5498aaf4",
   "metadata": {},
   "outputs": [],
   "source": [
    "bandwidth_sizes = []\n",
    "\n",
    "\n",
    "class BandwidthTrackingFedAvg(FedAvg):\n",
    "    def aggregate_fit(self, server_round, results, failures):\n",
    "        if not results:\n",
    "            return None, {}\n",
    "\n",
    "        # Track sizes of models received\n",
    "        for _, res in results:\n",
    "            ndas = parameters_to_ndarrays(res.parameters)\n",
    "            size = int(sum(n.nbytes for n in ndas) / (1024**2))\n",
    "            log(INFO, f\"Server receiving model size: {size} MB\")\n",
    "            bandwidth_sizes.append(size)\n",
    "\n",
    "        # Call FedAvg for actual aggregation\n",
    "        return super().aggregate_fit(server_round, results, failures)\n",
    "\n",
    "    def configure_fit(self, server_round, parameters, client_manager):\n",
    "        # Call FedAvg for actual configuration\n",
    "        instructions = super().configure_fit(\n",
    "            server_round, parameters, client_manager\n",
    "        )\n",
    "\n",
    "        # Track sizes of models to be sent\n",
    "        for _, ins in instructions:\n",
    "            ndas = parameters_to_ndarrays(ins.parameters)\n",
    "            size = int(sum(n.nbytes for n in ndas) / (1024**2))\n",
    "            log(INFO, f\"Server sending model size: {size} MB\")\n",
    "            bandwidth_sizes.append(size)\n",
    "\n",
    "        return instructions"
   ]
  },
  {
   "cell_type": "code",
   "execution_count": 6,
   "id": "d0166979-2cc2-44ac-89dd-e9bc05c941e9",
   "metadata": {},
   "outputs": [],
   "source": [
    "params = ndarrays_to_parameters(get_weights(model))\n",
    "\n",
    "def server_fn(context: Context):\n",
    "    strategy = BandwidthTrackingFedAvg(\n",
    "        fraction_evaluate=0.0,\n",
    "        initial_parameters=params,\n",
    "    )\n",
    "    config = ServerConfig(num_rounds=1)\n",
    "    return ServerAppComponents(\n",
    "        strategy=strategy,\n",
    "        config=config,\n",
    "    )\n",
    "\n",
    "\n",
    "server = ServerApp(server_fn=server_fn)"
   ]
  },
  {
   "cell_type": "markdown",
   "id": "ab4e469b",
   "metadata": {},
   "source": [
    "* Run the simulation."
   ]
  },
  {
   "cell_type": "code",
   "execution_count": 11,
   "id": "c4cddbee-f017-4ad1-b6e1-2a81b857fcef",
   "metadata": {},
   "outputs": [
    {
     "name": "stderr",
     "output_type": "stream",
     "text": [
      "\u001b[92mINFO \u001b[0m: Starting Flower ServerApp, config: num_rounds=1, no round_timeout\n",
      "\u001b[92mINFO \u001b[0m: \n",
      "\u001b[92mINFO \u001b[0m: [INIT]\n",
      "\u001b[92mINFO \u001b[0m: Using initial global parameters provided by strategy\n",
      "\u001b[92mINFO \u001b[0m: Evaluating initial global parameters\n",
      "\u001b[92mINFO \u001b[0m: \n",
      "\u001b[92mINFO \u001b[0m: [ROUND 1]\n",
      "\u001b[92mINFO \u001b[0m: Server sending model size: 53 MB\n",
      "\u001b[92mINFO \u001b[0m: Server sending model size: 53 MB\n",
      "\u001b[92mINFO \u001b[0m: configure_fit: strategy sampled 2 clients (out of 2)\n",
      "\u001b[2m\u001b[36m(ClientAppActor pid=22716)\u001b[0m No module named 'utils5'\n",
      "\u001b[2m\u001b[36m(ClientAppActor pid=22716)\u001b[0m Traceback (most recent call last):\n",
      "\u001b[2m\u001b[36m(ClientAppActor pid=22716)\u001b[0m   File \"c:\\Users\\Ridoy\\anaconda3\\envs\\flower_env\\lib\\site-packages\\ray\\_private\\serialization.py\", line 387, in deserialize_objects\n",
      "\u001b[2m\u001b[36m(ClientAppActor pid=22716)\u001b[0m     obj = self._deserialize_object(data, metadata, object_ref)\n",
      "\u001b[2m\u001b[36m(ClientAppActor pid=22716)\u001b[0m   File \"c:\\Users\\Ridoy\\anaconda3\\envs\\flower_env\\lib\\site-packages\\ray\\_private\\serialization.py\", line 268, in _deserialize_object\n",
      "\u001b[2m\u001b[36m(ClientAppActor pid=22716)\u001b[0m     return self._deserialize_msgpack_data(data, metadata_fields)\n",
      "\u001b[2m\u001b[36m(ClientAppActor pid=22716)\u001b[0m   File \"c:\\Users\\Ridoy\\anaconda3\\envs\\flower_env\\lib\\site-packages\\ray\\_private\\serialization.py\", line 223, in _deserialize_msgpack_data\n",
      "\u001b[2m\u001b[36m(ClientAppActor pid=22716)\u001b[0m     python_objects = self._deserialize_pickle5_data(pickle5_data)\n",
      "\u001b[2m\u001b[36m(ClientAppActor pid=22716)\u001b[0m   File \"c:\\Users\\Ridoy\\anaconda3\\envs\\flower_env\\lib\\site-packages\\ray\\_private\\serialization.py\", line 213, in _deserialize_pickle5_data\n",
      "\u001b[2m\u001b[36m(ClientAppActor pid=22716)\u001b[0m     obj = pickle.loads(in_band)\n",
      "\u001b[2m\u001b[36m(ClientAppActor pid=22716)\u001b[0m ModuleNotFoundError: No module named 'utils5'\n",
      "\u001b[92mINFO \u001b[0m: aggregate_fit: received 0 results and 2 failures\n",
      "\u001b[92mINFO \u001b[0m: configure_evaluate: no clients selected, skipping evaluation\n",
      "\u001b[92mINFO \u001b[0m: \n",
      "\u001b[92mINFO \u001b[0m: [SUMMARY]\n",
      "\u001b[92mINFO \u001b[0m: Run finished 1 round(s) in 13.13s\n",
      "\u001b[92mINFO \u001b[0m: \n",
      "\u001b[2m\u001b[36m(ClientAppActor pid=28324)\u001b[0m No module named 'utils5'\n",
      "\u001b[2m\u001b[36m(ClientAppActor pid=28324)\u001b[0m Traceback (most recent call last):\n",
      "\u001b[2m\u001b[36m(ClientAppActor pid=28324)\u001b[0m   File \"c:\\Users\\Ridoy\\anaconda3\\envs\\flower_env\\lib\\site-packages\\ray\\_private\\serialization.py\", line 387, in deserialize_objects\n",
      "\u001b[2m\u001b[36m(ClientAppActor pid=28324)\u001b[0m     obj = self._deserialize_object(data, metadata, object_ref)\n",
      "\u001b[2m\u001b[36m(ClientAppActor pid=28324)\u001b[0m   File \"c:\\Users\\Ridoy\\anaconda3\\envs\\flower_env\\lib\\site-packages\\ray\\_private\\serialization.py\", line 268, in _deserialize_object\n",
      "\u001b[2m\u001b[36m(ClientAppActor pid=28324)\u001b[0m     return self._deserialize_msgpack_data(data, metadata_fields)\n",
      "\u001b[2m\u001b[36m(ClientAppActor pid=28324)\u001b[0m   File \"c:\\Users\\Ridoy\\anaconda3\\envs\\flower_env\\lib\\site-packages\\ray\\_private\\serialization.py\", line 223, in _deserialize_msgpack_data\n",
      "\u001b[2m\u001b[36m(ClientAppActor pid=28324)\u001b[0m     python_objects = self._deserialize_pickle5_data(pickle5_data)\n",
      "\u001b[2m\u001b[36m(ClientAppActor pid=28324)\u001b[0m   File \"c:\\Users\\Ridoy\\anaconda3\\envs\\flower_env\\lib\\site-packages\\ray\\_private\\serialization.py\", line 213, in _deserialize_pickle5_data\n",
      "\u001b[2m\u001b[36m(ClientAppActor pid=28324)\u001b[0m     obj = pickle.loads(in_band)\n",
      "\u001b[2m\u001b[36m(ClientAppActor pid=28324)\u001b[0m ModuleNotFoundError: No module named 'utils5'\n"
     ]
    }
   ],
   "source": [
    "run_simulation(server_app=server,\n",
    "               client_app=client,\n",
    "               num_supernodes=2,\n",
    "               backend_config=backend_setup\n",
    "               )"
   ]
  },
  {
   "cell_type": "markdown",
   "id": "30d64b93",
   "metadata": {},
   "source": [
    "* Log how much bandwidth was used!"
   ]
  },
  {
   "cell_type": "code",
   "execution_count": 12,
   "id": "d49b2f6d-91eb-4161-b86e-74d897cb725a",
   "metadata": {},
   "outputs": [
    {
     "name": "stderr",
     "output_type": "stream",
     "text": [
      "\u001b[92mINFO \u001b[0m: Total bandwidth used: 318 MB\n"
     ]
    }
   ],
   "source": [
    "log(INFO, \"Total bandwidth used: {} MB\".format(sum(bandwidth_sizes)))"
   ]
  },
  {
   "cell_type": "code",
   "execution_count": null,
   "id": "fc1957ee",
   "metadata": {},
   "outputs": [],
   "source": []
  }
 ],
 "metadata": {
  "kernelspec": {
   "display_name": "flower_env",
   "language": "python",
   "name": "python3"
  },
  "language_info": {
   "codemirror_mode": {
    "name": "ipython",
    "version": 3
   },
   "file_extension": ".py",
   "mimetype": "text/x-python",
   "name": "python",
   "nbconvert_exporter": "python",
   "pygments_lexer": "ipython3",
   "version": "3.9.22"
  }
 },
 "nbformat": 4,
 "nbformat_minor": 5
}
